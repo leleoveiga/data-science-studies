{
  "nbformat": 4,
  "nbformat_minor": 0,
  "metadata": {
    "colab": {
      "name": "towardsEDA.ipynb",
      "provenance": [],
      "collapsed_sections": []
    },
    "kernelspec": {
      "name": "python3",
      "display_name": "Python 3"
    },
    "language_info": {
      "name": "python"
    }
  },
  "cells": [
    {
      "cell_type": "markdown",
      "metadata": {
        "id": "nJH-YPPURW6D"
      },
      "source": [
        "### Aprendendo o básico sobre análise explanatória de dados, utilizando Python com Numpy, Matplotlib, and Pandas.\n",
        "https://towardsdatascience.com/exploratory-data-analysis-eda-python-87178e35b14"
      ]
    },
    {
      "cell_type": "code",
      "metadata": {
        "id": "YDvq51sc67Od"
      },
      "source": [
        "import numpy as np\n",
        "import pandas as pd\n",
        "import seaborn as sns\n",
        "import matplotlib.pyplot as plt\n",
        "%matplotlib inline"
      ],
      "execution_count": null,
      "outputs": []
    },
    {
      "cell_type": "markdown",
      "metadata": {
        "id": "X1Zw1inQbjAe"
      },
      "source": [
        "### Cleaning\n"
      ]
    },
    {
      "cell_type": "code",
      "metadata": {
        "colab": {
          "base_uri": "https://localhost:8080/",
          "height": 309
        },
        "id": "VHV0lygl9qTG",
        "outputId": "9193714a-35bb-49ff-f60f-3be71e22658f"
      },
      "source": [
        "data= pd.read_csv(\"marketing_analysis.csv\", skiprows = 2, low_memory=False)\n",
        "data.head()"
      ],
      "execution_count": null,
      "outputs": [
        {
          "output_type": "execute_result",
          "data": {
            "text/html": [
              "<div>\n",
              "<style scoped>\n",
              "    .dataframe tbody tr th:only-of-type {\n",
              "        vertical-align: middle;\n",
              "    }\n",
              "\n",
              "    .dataframe tbody tr th {\n",
              "        vertical-align: top;\n",
              "    }\n",
              "\n",
              "    .dataframe thead th {\n",
              "        text-align: right;\n",
              "    }\n",
              "</style>\n",
              "<table border=\"1\" class=\"dataframe\">\n",
              "  <thead>\n",
              "    <tr style=\"text-align: right;\">\n",
              "      <th></th>\n",
              "      <th>customerid</th>\n",
              "      <th>age</th>\n",
              "      <th>salary</th>\n",
              "      <th>balance</th>\n",
              "      <th>marital</th>\n",
              "      <th>jobedu</th>\n",
              "      <th>targeted</th>\n",
              "      <th>default</th>\n",
              "      <th>housing</th>\n",
              "      <th>loan</th>\n",
              "      <th>contact</th>\n",
              "      <th>day</th>\n",
              "      <th>month</th>\n",
              "      <th>duration</th>\n",
              "      <th>campaign</th>\n",
              "      <th>pdays</th>\n",
              "      <th>previous</th>\n",
              "      <th>poutcome</th>\n",
              "      <th>response</th>\n",
              "    </tr>\n",
              "  </thead>\n",
              "  <tbody>\n",
              "    <tr>\n",
              "      <th>0</th>\n",
              "      <td>1</td>\n",
              "      <td>58.0</td>\n",
              "      <td>100000</td>\n",
              "      <td>2143</td>\n",
              "      <td>married</td>\n",
              "      <td>management,tertiary</td>\n",
              "      <td>yes</td>\n",
              "      <td>no</td>\n",
              "      <td>yes</td>\n",
              "      <td>no</td>\n",
              "      <td>unknown</td>\n",
              "      <td>5</td>\n",
              "      <td>may, 2017</td>\n",
              "      <td>261 sec</td>\n",
              "      <td>1</td>\n",
              "      <td>-1</td>\n",
              "      <td>0</td>\n",
              "      <td>unknown</td>\n",
              "      <td>no</td>\n",
              "    </tr>\n",
              "    <tr>\n",
              "      <th>1</th>\n",
              "      <td>2</td>\n",
              "      <td>44.0</td>\n",
              "      <td>60000</td>\n",
              "      <td>29</td>\n",
              "      <td>single</td>\n",
              "      <td>technician,secondary</td>\n",
              "      <td>yes</td>\n",
              "      <td>no</td>\n",
              "      <td>yes</td>\n",
              "      <td>no</td>\n",
              "      <td>unknown</td>\n",
              "      <td>5</td>\n",
              "      <td>may, 2017</td>\n",
              "      <td>151 sec</td>\n",
              "      <td>1</td>\n",
              "      <td>-1</td>\n",
              "      <td>0</td>\n",
              "      <td>unknown</td>\n",
              "      <td>no</td>\n",
              "    </tr>\n",
              "    <tr>\n",
              "      <th>2</th>\n",
              "      <td>3</td>\n",
              "      <td>33.0</td>\n",
              "      <td>120000</td>\n",
              "      <td>2</td>\n",
              "      <td>married</td>\n",
              "      <td>entrepreneur,secondary</td>\n",
              "      <td>yes</td>\n",
              "      <td>no</td>\n",
              "      <td>yes</td>\n",
              "      <td>yes</td>\n",
              "      <td>unknown</td>\n",
              "      <td>5</td>\n",
              "      <td>may, 2017</td>\n",
              "      <td>76 sec</td>\n",
              "      <td>1</td>\n",
              "      <td>-1</td>\n",
              "      <td>0</td>\n",
              "      <td>unknown</td>\n",
              "      <td>no</td>\n",
              "    </tr>\n",
              "    <tr>\n",
              "      <th>3</th>\n",
              "      <td>4</td>\n",
              "      <td>47.0</td>\n",
              "      <td>20000</td>\n",
              "      <td>1506</td>\n",
              "      <td>married</td>\n",
              "      <td>blue-collar,unknown</td>\n",
              "      <td>no</td>\n",
              "      <td>no</td>\n",
              "      <td>yes</td>\n",
              "      <td>no</td>\n",
              "      <td>unknown</td>\n",
              "      <td>5</td>\n",
              "      <td>may, 2017</td>\n",
              "      <td>92 sec</td>\n",
              "      <td>1</td>\n",
              "      <td>-1</td>\n",
              "      <td>0</td>\n",
              "      <td>unknown</td>\n",
              "      <td>no</td>\n",
              "    </tr>\n",
              "    <tr>\n",
              "      <th>4</th>\n",
              "      <td>5</td>\n",
              "      <td>33.0</td>\n",
              "      <td>0</td>\n",
              "      <td>1</td>\n",
              "      <td>single</td>\n",
              "      <td>unknown,unknown</td>\n",
              "      <td>no</td>\n",
              "      <td>no</td>\n",
              "      <td>no</td>\n",
              "      <td>no</td>\n",
              "      <td>unknown</td>\n",
              "      <td>5</td>\n",
              "      <td>may, 2017</td>\n",
              "      <td>198 sec</td>\n",
              "      <td>1</td>\n",
              "      <td>-1</td>\n",
              "      <td>0</td>\n",
              "      <td>unknown</td>\n",
              "      <td>no</td>\n",
              "    </tr>\n",
              "  </tbody>\n",
              "</table>\n",
              "</div>"
            ],
            "text/plain": [
              "   customerid   age  salary  balance  ... pdays previous poutcome response\n",
              "0           1  58.0  100000     2143  ...    -1        0  unknown       no\n",
              "1           2  44.0   60000       29  ...    -1        0  unknown       no\n",
              "2           3  33.0  120000        2  ...    -1        0  unknown       no\n",
              "3           4  47.0   20000     1506  ...    -1        0  unknown       no\n",
              "4           5  33.0       0        1  ...    -1        0  unknown       no\n",
              "\n",
              "[5 rows x 19 columns]"
            ]
          },
          "metadata": {
            "tags": []
          },
          "execution_count": 50
        }
      ]
    },
    {
      "cell_type": "markdown",
      "metadata": {
        "id": "3dd0QoLlGEdP"
      },
      "source": [
        "**Drop the customer id as it is of no use.**\n",
        "\n",
        "**Extract job  & Education in newly from \"jobedu\" column.**\n",
        "\n",
        "**Drop the \"jobedu\" column from the dataframe.**"
      ]
    },
    {
      "cell_type": "code",
      "metadata": {
        "id": "8O6uGV8F-6hN"
      },
      "source": [
        "data.drop(\"customerid\", axis = 1, inplace = True)\n",
        "\n",
        "data['job'] = data['jobedu'].apply(lambda x: x.split(',')[0])\n",
        "data['education'] = data['jobedu'].apply(lambda x: x.split(',')[1])\n",
        "\n",
        "data.drop('jobedu', axis = 1, inplace = True)"
      ],
      "execution_count": null,
      "outputs": []
    },
    {
      "cell_type": "code",
      "metadata": {
        "colab": {
          "base_uri": "https://localhost:8080/",
          "height": 309
        },
        "id": "29o7WZlNF-9-",
        "outputId": "bc8fd7ab-0398-4a5d-bf5f-6c5330e55d4c"
      },
      "source": [
        "data.head()"
      ],
      "execution_count": null,
      "outputs": [
        {
          "output_type": "execute_result",
          "data": {
            "text/html": [
              "<div>\n",
              "<style scoped>\n",
              "    .dataframe tbody tr th:only-of-type {\n",
              "        vertical-align: middle;\n",
              "    }\n",
              "\n",
              "    .dataframe tbody tr th {\n",
              "        vertical-align: top;\n",
              "    }\n",
              "\n",
              "    .dataframe thead th {\n",
              "        text-align: right;\n",
              "    }\n",
              "</style>\n",
              "<table border=\"1\" class=\"dataframe\">\n",
              "  <thead>\n",
              "    <tr style=\"text-align: right;\">\n",
              "      <th></th>\n",
              "      <th>age</th>\n",
              "      <th>salary</th>\n",
              "      <th>balance</th>\n",
              "      <th>marital</th>\n",
              "      <th>targeted</th>\n",
              "      <th>default</th>\n",
              "      <th>housing</th>\n",
              "      <th>loan</th>\n",
              "      <th>contact</th>\n",
              "      <th>day</th>\n",
              "      <th>month</th>\n",
              "      <th>duration</th>\n",
              "      <th>campaign</th>\n",
              "      <th>pdays</th>\n",
              "      <th>previous</th>\n",
              "      <th>poutcome</th>\n",
              "      <th>response</th>\n",
              "      <th>job</th>\n",
              "      <th>education</th>\n",
              "    </tr>\n",
              "  </thead>\n",
              "  <tbody>\n",
              "    <tr>\n",
              "      <th>0</th>\n",
              "      <td>58.0</td>\n",
              "      <td>100000</td>\n",
              "      <td>2143</td>\n",
              "      <td>married</td>\n",
              "      <td>yes</td>\n",
              "      <td>no</td>\n",
              "      <td>yes</td>\n",
              "      <td>no</td>\n",
              "      <td>unknown</td>\n",
              "      <td>5</td>\n",
              "      <td>may, 2017</td>\n",
              "      <td>261 sec</td>\n",
              "      <td>1</td>\n",
              "      <td>-1</td>\n",
              "      <td>0</td>\n",
              "      <td>unknown</td>\n",
              "      <td>no</td>\n",
              "      <td>management</td>\n",
              "      <td>tertiary</td>\n",
              "    </tr>\n",
              "    <tr>\n",
              "      <th>1</th>\n",
              "      <td>44.0</td>\n",
              "      <td>60000</td>\n",
              "      <td>29</td>\n",
              "      <td>single</td>\n",
              "      <td>yes</td>\n",
              "      <td>no</td>\n",
              "      <td>yes</td>\n",
              "      <td>no</td>\n",
              "      <td>unknown</td>\n",
              "      <td>5</td>\n",
              "      <td>may, 2017</td>\n",
              "      <td>151 sec</td>\n",
              "      <td>1</td>\n",
              "      <td>-1</td>\n",
              "      <td>0</td>\n",
              "      <td>unknown</td>\n",
              "      <td>no</td>\n",
              "      <td>technician</td>\n",
              "      <td>secondary</td>\n",
              "    </tr>\n",
              "    <tr>\n",
              "      <th>2</th>\n",
              "      <td>33.0</td>\n",
              "      <td>120000</td>\n",
              "      <td>2</td>\n",
              "      <td>married</td>\n",
              "      <td>yes</td>\n",
              "      <td>no</td>\n",
              "      <td>yes</td>\n",
              "      <td>yes</td>\n",
              "      <td>unknown</td>\n",
              "      <td>5</td>\n",
              "      <td>may, 2017</td>\n",
              "      <td>76 sec</td>\n",
              "      <td>1</td>\n",
              "      <td>-1</td>\n",
              "      <td>0</td>\n",
              "      <td>unknown</td>\n",
              "      <td>no</td>\n",
              "      <td>entrepreneur</td>\n",
              "      <td>secondary</td>\n",
              "    </tr>\n",
              "    <tr>\n",
              "      <th>3</th>\n",
              "      <td>47.0</td>\n",
              "      <td>20000</td>\n",
              "      <td>1506</td>\n",
              "      <td>married</td>\n",
              "      <td>no</td>\n",
              "      <td>no</td>\n",
              "      <td>yes</td>\n",
              "      <td>no</td>\n",
              "      <td>unknown</td>\n",
              "      <td>5</td>\n",
              "      <td>may, 2017</td>\n",
              "      <td>92 sec</td>\n",
              "      <td>1</td>\n",
              "      <td>-1</td>\n",
              "      <td>0</td>\n",
              "      <td>unknown</td>\n",
              "      <td>no</td>\n",
              "      <td>blue-collar</td>\n",
              "      <td>unknown</td>\n",
              "    </tr>\n",
              "    <tr>\n",
              "      <th>4</th>\n",
              "      <td>33.0</td>\n",
              "      <td>0</td>\n",
              "      <td>1</td>\n",
              "      <td>single</td>\n",
              "      <td>no</td>\n",
              "      <td>no</td>\n",
              "      <td>no</td>\n",
              "      <td>no</td>\n",
              "      <td>unknown</td>\n",
              "      <td>5</td>\n",
              "      <td>may, 2017</td>\n",
              "      <td>198 sec</td>\n",
              "      <td>1</td>\n",
              "      <td>-1</td>\n",
              "      <td>0</td>\n",
              "      <td>unknown</td>\n",
              "      <td>no</td>\n",
              "      <td>unknown</td>\n",
              "      <td>unknown</td>\n",
              "    </tr>\n",
              "  </tbody>\n",
              "</table>\n",
              "</div>"
            ],
            "text/plain": [
              "    age  salary  balance  marital  ... poutcome response           job  education\n",
              "0  58.0  100000     2143  married  ...  unknown       no    management   tertiary\n",
              "1  44.0   60000       29   single  ...  unknown       no    technician  secondary\n",
              "2  33.0  120000        2  married  ...  unknown       no  entrepreneur  secondary\n",
              "3  47.0   20000     1506  married  ...  unknown       no   blue-collar    unknown\n",
              "4  33.0       0        1   single  ...  unknown       no       unknown    unknown\n",
              "\n",
              "[5 rows x 19 columns]"
            ]
          },
          "metadata": {
            "tags": []
          },
          "execution_count": 52
        }
      ]
    },
    {
      "cell_type": "code",
      "metadata": {
        "id": "Fc0IxXljSYLE",
        "colab": {
          "base_uri": "https://localhost:8080/"
        },
        "outputId": "5c2050bf-4817-4cdc-f51a-f17b112aa703"
      },
      "source": [
        "data.isnull().sum()"
      ],
      "execution_count": null,
      "outputs": [
        {
          "output_type": "execute_result",
          "data": {
            "text/plain": [
              "age          20\n",
              "salary        0\n",
              "balance       0\n",
              "marital       0\n",
              "targeted      0\n",
              "default       0\n",
              "housing       0\n",
              "loan          0\n",
              "contact       0\n",
              "day           0\n",
              "month        50\n",
              "duration      0\n",
              "campaign      0\n",
              "pdays         0\n",
              "previous      0\n",
              "poutcome      0\n",
              "response     30\n",
              "job           0\n",
              "education     0\n",
              "dtype: int64"
            ]
          },
          "metadata": {
            "tags": []
          },
          "execution_count": 53
        }
      ]
    },
    {
      "cell_type": "markdown",
      "metadata": {
        "id": "pky-UapGTQUt"
      },
      "source": [
        "**Dropping the records with values missing in data dataframe.**\n",
        "\n",
        "**Checking the missing values in the dataset.**"
      ]
    },
    {
      "cell_type": "code",
      "metadata": {
        "id": "dqCDJ8eYSXnO",
        "colab": {
          "base_uri": "https://localhost:8080/"
        },
        "outputId": "1dbeeff9-e291-4634-bc54-0efe3ef95e02"
      },
      "source": [
        "data = data[~data.age.isnull()].copy()\n",
        "\n",
        "month_mode = data.month.mode()[0]\n",
        "data.month.fillna(month_mode, inplace = True)\n",
        "\n",
        "data = data[~data.response.isnull()].copy()\n",
        "\n",
        "data.isnull().sum()"
      ],
      "execution_count": null,
      "outputs": [
        {
          "output_type": "execute_result",
          "data": {
            "text/plain": [
              "age          0\n",
              "salary       0\n",
              "balance      0\n",
              "marital      0\n",
              "targeted     0\n",
              "default      0\n",
              "housing      0\n",
              "loan         0\n",
              "contact      0\n",
              "day          0\n",
              "month        0\n",
              "duration     0\n",
              "campaign     0\n",
              "pdays        0\n",
              "previous     0\n",
              "poutcome     0\n",
              "response     0\n",
              "job          0\n",
              "education    0\n",
              "dtype: int64"
            ]
          },
          "metadata": {
            "tags": []
          },
          "execution_count": 55
        }
      ]
    },
    {
      "cell_type": "markdown",
      "metadata": {
        "id": "scL8Kx8kb1Dl"
      },
      "source": [
        "### Univariate Analysis"
      ]
    },
    {
      "cell_type": "markdown",
      "metadata": {
        "id": "SG7ej9ORljwI"
      },
      "source": [
        "#### Categorical Unordered Univariate Analysis"
      ]
    },
    {
      "cell_type": "code",
      "metadata": {
        "colab": {
          "base_uri": "https://localhost:8080/"
        },
        "id": "MAt00rNqTWTU",
        "outputId": "b4c2f158-acb5-49d5-9b0a-1fbb7d7eb9f9"
      },
      "source": [
        "data.job.value_counts(normalize=True)"
      ],
      "execution_count": null,
      "outputs": [
        {
          "output_type": "execute_result",
          "data": {
            "text/plain": [
              "blue-collar      0.215274\n",
              "management       0.209273\n",
              "technician       0.168043\n",
              "admin.           0.114369\n",
              "services         0.091849\n",
              "retired          0.050087\n",
              "self-employed    0.034853\n",
              "entrepreneur     0.032860\n",
              "unemployed       0.028830\n",
              "housemaid        0.027413\n",
              "student          0.020770\n",
              "unknown          0.006377\n",
              "Name: job, dtype: float64"
            ]
          },
          "metadata": {
            "tags": []
          },
          "execution_count": 99
        }
      ]
    },
    {
      "cell_type": "code",
      "metadata": {
        "colab": {
          "base_uri": "https://localhost:8080/",
          "height": 265
        },
        "id": "igGWPqY2bYIK",
        "outputId": "3624aab4-6293-4c6d-fb9a-3c738ef3f274"
      },
      "source": [
        "data.job.value_counts(normalize=True).plot.barh()\n",
        "plt.show()"
      ],
      "execution_count": null,
      "outputs": [
        {
          "output_type": "display_data",
          "data": {
            "image/png": "[encoded data removed]",
            "text/plain": [
              "<Figure size 432x288 with 1 Axes>"
            ]
          },
          "metadata": {
            "tags": [],
            "needs_background": "light"
          }
        }
      ]
    },
    {
      "cell_type": "markdown",
      "metadata": {
        "id": "M_sD4IEzcNU_"
      },
      "source": [
        "#### Categorical Ordered Univariate Analysis"
      ]
    },
    {
      "cell_type": "markdown",
      "metadata": {
        "id": "vr1ubIGAlzGI"
      },
      "source": [
        "Ordered variables are those variables that have a natural rank of order.\n",
        "\n",
        "Month: Jan, Feb, March……\n",
        "\n",
        "Education: Primary, Secondary,……"
      ]
    },
    {
      "cell_type": "code",
      "metadata": {
        "colab": {
          "base_uri": "https://localhost:8080/"
        },
        "id": "o39D2D0_cd6l",
        "outputId": "167bc56a-ad2a-4053-b8e4-142e7595ee68"
      },
      "source": [
        "#calculate the percentage of each education category.\n",
        "data.education.value_counts(normalize=True)"
      ],
      "execution_count": null,
      "outputs": [
        {
          "output_type": "execute_result",
          "data": {
            "text/plain": [
              "secondary    0.513275\n",
              "tertiary     0.294192\n",
              "primary      0.151436\n",
              "unknown      0.041097\n",
              "Name: education, dtype: float64"
            ]
          },
          "metadata": {
            "tags": []
          },
          "execution_count": 86
        }
      ]
    },
    {
      "cell_type": "code",
      "metadata": {
        "colab": {
          "base_uri": "https://localhost:8080/",
          "height": 248
        },
        "id": "Rs8hiVImcMpR",
        "outputId": "f566dd48-40ed-4c25-9739-8abc39518167"
      },
      "source": [
        "#plot the pie chart of education categories\n",
        "data.education.value_counts(normalize=True).plot.pie()\n",
        "plt.show()"
      ],
      "execution_count": null,
      "outputs": [
        {
          "output_type": "display_data",
          "data": {
            "image/png": "[encoded data removed]",
            "text/plain": [
              "<Figure size 432x288 with 1 Axes>"
            ]
          },
          "metadata": {
            "tags": []
          }
        }
      ]
    },
    {
      "cell_type": "markdown",
      "metadata": {
        "id": "j8QP9xZQc7Jo"
      },
      "source": [
        "### Bivariate Analysis"
      ]
    },
    {
      "cell_type": "markdown",
      "metadata": {
        "id": "l3S8lze8dp3F"
      },
      "source": [
        "#### Scatter Plot"
      ]
    },
    {
      "cell_type": "code",
      "metadata": {
        "colab": {
          "base_uri": "https://localhost:8080/",
          "height": 265
        },
        "id": "hGgBTFx4c97b",
        "outputId": "a1e6513b-7d32-4790-dbe9-1e581bde3a77"
      },
      "source": [
        "#plot the scatter plot of balance and salary variable in data\n",
        "plt.scatter(data.salary,data.balance)\n",
        "plt.show()"
      ],
      "execution_count": null,
      "outputs": [
        {
          "output_type": "display_data",
          "data": {
            "image/png": "[encoded data removed]",
            "text/plain": [
              "<Figure size 432x288 with 1 Axes>"
            ]
          },
          "metadata": {
            "tags": [],
            "needs_background": "light"
          }
        }
      ]
    },
    {
      "cell_type": "code",
      "metadata": {
        "colab": {
          "base_uri": "https://localhost:8080/",
          "height": 279
        },
        "id": "vpvAykZ8dEQ1",
        "outputId": "0b1eb1b0-7ed5-44ad-b21c-8b54b1a3aa22"
      },
      "source": [
        "#plot the scatter plot of balance and age variable in data\n",
        "data.plot.scatter(x=\"age\",y=\"balance\")\n",
        "plt.show()"
      ],
      "execution_count": null,
      "outputs": [
        {
          "output_type": "display_data",
          "data": {
            "image/png": "[encoded data removed]",
            "text/plain": [
              "<Figure size 432x288 with 1 Axes>"
            ]
          },
          "metadata": {
            "tags": [],
            "needs_background": "light"
          }
        }
      ]
    },
    {
      "cell_type": "markdown",
      "metadata": {
        "id": "m18b65R-dxRP"
      },
      "source": [
        "#### Pair Plot"
      ]
    },
    {
      "cell_type": "code",
      "metadata": {
        "colab": {
          "base_uri": "https://localhost:8080/",
          "height": 550
        },
        "id": "xdILLkCed0H3",
        "outputId": "991c3967-237a-4759-ef55-b71144f2f7e0"
      },
      "source": [
        "#plot the pair plot of salary, balance and age in data dataframe.\n",
        "sns.pairplot(data = data, vars=['salary','balance','age'])\n",
        "plt.show()"
      ],
      "execution_count": null,
      "outputs": [
        {
          "output_type": "display_data",
          "data": {
            "image/png": "[encoded data removed]",
            "text/plain": [
              "<Figure size 540x540 with 12 Axes>"
            ]
          },
          "metadata": {
            "tags": [],
            "needs_background": "light"
          }
        }
      ]
    },
    {
      "cell_type": "markdown",
      "metadata": {
        "id": "z7bMVUcDj71i"
      },
      "source": [
        "#### Correlation Matrix"
      ]
    },
    {
      "cell_type": "code",
      "metadata": {
        "colab": {
          "base_uri": "https://localhost:8080/",
          "height": 142
        },
        "id": "jzCaN3y8j_q5",
        "outputId": "bbc604d0-e6bb-499b-be02-c7227c91a646"
      },
      "source": [
        "# Creating a matrix using age, salry, balance as rows and columns\n",
        "data[['age','salary','balance']].corr()"
      ],
      "execution_count": null,
      "outputs": [
        {
          "output_type": "execute_result",
          "data": {
            "text/html": [
              "<div>\n",
              "<style scoped>\n",
              "    .dataframe tbody tr th:only-of-type {\n",
              "        vertical-align: middle;\n",
              "    }\n",
              "\n",
              "    .dataframe tbody tr th {\n",
              "        vertical-align: top;\n",
              "    }\n",
              "\n",
              "    .dataframe thead th {\n",
              "        text-align: right;\n",
              "    }\n",
              "</style>\n",
              "<table border=\"1\" class=\"dataframe\">\n",
              "  <thead>\n",
              "    <tr style=\"text-align: right;\">\n",
              "      <th></th>\n",
              "      <th>age</th>\n",
              "      <th>salary</th>\n",
              "      <th>balance</th>\n",
              "    </tr>\n",
              "  </thead>\n",
              "  <tbody>\n",
              "    <tr>\n",
              "      <th>age</th>\n",
              "      <td>1.000000</td>\n",
              "      <td>0.024513</td>\n",
              "      <td>0.097710</td>\n",
              "    </tr>\n",
              "    <tr>\n",
              "      <th>salary</th>\n",
              "      <td>0.024513</td>\n",
              "      <td>1.000000</td>\n",
              "      <td>0.055489</td>\n",
              "    </tr>\n",
              "    <tr>\n",
              "      <th>balance</th>\n",
              "      <td>0.097710</td>\n",
              "      <td>0.055489</td>\n",
              "      <td>1.000000</td>\n",
              "    </tr>\n",
              "  </tbody>\n",
              "</table>\n",
              "</div>"
            ],
            "text/plain": [
              "              age    salary   balance\n",
              "age      1.000000  0.024513  0.097710\n",
              "salary   0.024513  1.000000  0.055489\n",
              "balance  0.097710  0.055489  1.000000"
            ]
          },
          "metadata": {
            "tags": []
          },
          "execution_count": 97
        }
      ]
    },
    {
      "cell_type": "code",
      "metadata": {
        "colab": {
          "base_uri": "https://localhost:8080/",
          "height": 286
        },
        "id": "1tx2xdqXk9w6",
        "outputId": "9f7a4939-8590-441e-95b2-cd6d32cef46f"
      },
      "source": [
        "#plot the correlation matrix of salary, balance and age in data dataframe.\n",
        "sns.heatmap(data[['age','salary','balance']].corr(), annot=True, cmap = 'Reds')"
      ],
      "execution_count": null,
      "outputs": [
        {
          "output_type": "execute_result",
          "data": {
            "text/plain": [
              "<matplotlib.axes._subplots.AxesSubplot at 0x7fdab75ccbd0>"
            ]
          },
          "metadata": {
            "tags": []
          },
          "execution_count": 98
        },
        {
          "output_type": "display_data",
          "data": {
            "image/png": "[encoded data removed]",
            "text/plain": [
              "<Figure size 432x288 with 2 Axes>"
            ]
          },
          "metadata": {
            "tags": [],
            "needs_background": "light"
          }
        }
      ]
    },
    {
      "cell_type": "markdown",
      "metadata": {
        "id": "N782bPSAlSzM"
      },
      "source": [
        "#### Numeric - Categorical Analysis"
      ]
    },
    {
      "cell_type": "code",
      "metadata": {
        "colab": {
          "base_uri": "https://localhost:8080/"
        },
        "id": "vHSwVwurmZeD",
        "outputId": "7fed2603-384c-4913-c1a2-76fb9816650f"
      },
      "source": [
        "data.groupby('response')['salary'].median()"
      ],
      "execution_count": null,
      "outputs": [
        {
          "output_type": "execute_result",
          "data": {
            "text/plain": [
              "response\n",
              "no     60000\n",
              "yes    60000\n",
              "Name: salary, dtype: int64"
            ]
          },
          "metadata": {
            "tags": []
          },
          "execution_count": 134
        }
      ]
    },
    {
      "cell_type": "code",
      "metadata": {
        "colab": {
          "base_uri": "https://localhost:8080/"
        },
        "id": "Q8VXIYRT162Y",
        "outputId": "d96c4177-f0ab-4bc7-c5b4-d164d45a7c41"
      },
      "source": [
        "data.groupby('response')['salary'].mean()"
      ],
      "execution_count": null,
      "outputs": [
        {
          "output_type": "execute_result",
          "data": {
            "text/plain": [
              "response\n",
              "no     56769.510482\n",
              "yes    58780.510880\n",
              "Name: salary, dtype: float64"
            ]
          },
          "metadata": {
            "tags": []
          },
          "execution_count": 157
        }
      ]
    },
    {
      "cell_type": "code",
      "metadata": {
        "colab": {
          "base_uri": "https://localhost:8080/",
          "height": 142
        },
        "id": "odO35jzu146p",
        "outputId": "df478b86-7aeb-4a19-86d7-8a016a9bf2c7"
      },
      "source": [
        "data.groupby('response')['salary'].describe()"
      ],
      "execution_count": null,
      "outputs": [
        {
          "output_type": "execute_result",
          "data": {
            "text/html": [
              "<div>\n",
              "<style scoped>\n",
              "    .dataframe tbody tr th:only-of-type {\n",
              "        vertical-align: middle;\n",
              "    }\n",
              "\n",
              "    .dataframe tbody tr th {\n",
              "        vertical-align: top;\n",
              "    }\n",
              "\n",
              "    .dataframe thead th {\n",
              "        text-align: right;\n",
              "    }\n",
              "</style>\n",
              "<table border=\"1\" class=\"dataframe\">\n",
              "  <thead>\n",
              "    <tr style=\"text-align: right;\">\n",
              "      <th></th>\n",
              "      <th>count</th>\n",
              "      <th>mean</th>\n",
              "      <th>std</th>\n",
              "      <th>min</th>\n",
              "      <th>25%</th>\n",
              "      <th>50%</th>\n",
              "      <th>75%</th>\n",
              "      <th>max</th>\n",
              "    </tr>\n",
              "    <tr>\n",
              "      <th>response</th>\n",
              "      <th></th>\n",
              "      <th></th>\n",
              "      <th></th>\n",
              "      <th></th>\n",
              "      <th></th>\n",
              "      <th></th>\n",
              "      <th></th>\n",
              "      <th></th>\n",
              "    </tr>\n",
              "  </thead>\n",
              "  <tbody>\n",
              "    <tr>\n",
              "      <th>no</th>\n",
              "      <td>39876.0</td>\n",
              "      <td>56769.510482</td>\n",
              "      <td>32063.960597</td>\n",
              "      <td>0.0</td>\n",
              "      <td>20000.0</td>\n",
              "      <td>60000.0</td>\n",
              "      <td>70000.0</td>\n",
              "      <td>120000.0</td>\n",
              "    </tr>\n",
              "    <tr>\n",
              "      <th>yes</th>\n",
              "      <td>5285.0</td>\n",
              "      <td>58780.510880</td>\n",
              "      <td>32213.905247</td>\n",
              "      <td>0.0</td>\n",
              "      <td>50000.0</td>\n",
              "      <td>60000.0</td>\n",
              "      <td>100000.0</td>\n",
              "      <td>120000.0</td>\n",
              "    </tr>\n",
              "  </tbody>\n",
              "</table>\n",
              "</div>"
            ],
            "text/plain": [
              "            count          mean           std  ...      50%       75%       max\n",
              "response                                       ...                             \n",
              "no        39876.0  56769.510482  32063.960597  ...  60000.0   70000.0  120000.0\n",
              "yes        5285.0  58780.510880  32213.905247  ...  60000.0  100000.0  120000.0\n",
              "\n",
              "[2 rows x 8 columns]"
            ]
          },
          "metadata": {
            "tags": []
          },
          "execution_count": 138
        }
      ]
    },
    {
      "cell_type": "markdown",
      "metadata": {
        "id": "HW4LG_g02Ja0"
      },
      "source": [
        "#### Categorical Analysis"
      ]
    },
    {
      "cell_type": "code",
      "metadata": {
        "colab": {
          "base_uri": "https://localhost:8080/"
        },
        "id": "xaT5GFzV2OEU",
        "outputId": "ff38db90-ae9b-43a2-d782-de5d4e84799f"
      },
      "source": [
        "#create response_rate of numerical data type where response \"yes\"= 1, \"no\"= 0\n",
        "data['response_rate'] = np.where(data.response=='yes',1,0)\n",
        "data.response_rate.value_counts()"
      ],
      "execution_count": null,
      "outputs": [
        {
          "output_type": "execute_result",
          "data": {
            "text/plain": [
              "0    39876\n",
              "1     5285\n",
              "Name: response_rate, dtype: int64"
            ]
          },
          "metadata": {
            "tags": []
          },
          "execution_count": 140
        }
      ]
    },
    {
      "cell_type": "code",
      "metadata": {
        "colab": {
          "base_uri": "https://localhost:8080/"
        },
        "id": "ugcULMdu279X",
        "outputId": "7a784ed3-7651-4bac-c0b4-7aa841f19026"
      },
      "source": [
        "data.response_rate.describe()"
      ],
      "execution_count": null,
      "outputs": [
        {
          "output_type": "execute_result",
          "data": {
            "text/plain": [
              "count    45161.000000\n",
              "mean         0.117026\n",
              "std          0.321455\n",
              "min          0.000000\n",
              "25%          0.000000\n",
              "50%          0.000000\n",
              "75%          0.000000\n",
              "max          1.000000\n",
              "Name: response_rate, dtype: float64"
            ]
          },
          "metadata": {
            "tags": []
          },
          "execution_count": 143
        }
      ]
    },
    {
      "cell_type": "code",
      "metadata": {
        "colab": {
          "base_uri": "https://localhost:8080/",
          "height": 309
        },
        "id": "9rQA2w5p3NDD",
        "outputId": "75888a16-71e8-4d46-8cc7-e44786c78ab8"
      },
      "source": [
        "data.head()"
      ],
      "execution_count": null,
      "outputs": [
        {
          "output_type": "execute_result",
          "data": {
            "text/html": [
              "<div>\n",
              "<style scoped>\n",
              "    .dataframe tbody tr th:only-of-type {\n",
              "        vertical-align: middle;\n",
              "    }\n",
              "\n",
              "    .dataframe tbody tr th {\n",
              "        vertical-align: top;\n",
              "    }\n",
              "\n",
              "    .dataframe thead th {\n",
              "        text-align: right;\n",
              "    }\n",
              "</style>\n",
              "<table border=\"1\" class=\"dataframe\">\n",
              "  <thead>\n",
              "    <tr style=\"text-align: right;\">\n",
              "      <th></th>\n",
              "      <th>age</th>\n",
              "      <th>salary</th>\n",
              "      <th>balance</th>\n",
              "      <th>marital</th>\n",
              "      <th>targeted</th>\n",
              "      <th>default</th>\n",
              "      <th>housing</th>\n",
              "      <th>loan</th>\n",
              "      <th>contact</th>\n",
              "      <th>day</th>\n",
              "      <th>month</th>\n",
              "      <th>duration</th>\n",
              "      <th>campaign</th>\n",
              "      <th>pdays</th>\n",
              "      <th>previous</th>\n",
              "      <th>poutcome</th>\n",
              "      <th>response</th>\n",
              "      <th>job</th>\n",
              "      <th>education</th>\n",
              "      <th>response_rate</th>\n",
              "    </tr>\n",
              "  </thead>\n",
              "  <tbody>\n",
              "    <tr>\n",
              "      <th>0</th>\n",
              "      <td>58.0</td>\n",
              "      <td>100000</td>\n",
              "      <td>2143</td>\n",
              "      <td>married</td>\n",
              "      <td>yes</td>\n",
              "      <td>no</td>\n",
              "      <td>yes</td>\n",
              "      <td>no</td>\n",
              "      <td>unknown</td>\n",
              "      <td>5</td>\n",
              "      <td>may, 2017</td>\n",
              "      <td>261 sec</td>\n",
              "      <td>1</td>\n",
              "      <td>-1</td>\n",
              "      <td>0</td>\n",
              "      <td>unknown</td>\n",
              "      <td>no</td>\n",
              "      <td>management</td>\n",
              "      <td>tertiary</td>\n",
              "      <td>0</td>\n",
              "    </tr>\n",
              "    <tr>\n",
              "      <th>1</th>\n",
              "      <td>44.0</td>\n",
              "      <td>60000</td>\n",
              "      <td>29</td>\n",
              "      <td>single</td>\n",
              "      <td>yes</td>\n",
              "      <td>no</td>\n",
              "      <td>yes</td>\n",
              "      <td>no</td>\n",
              "      <td>unknown</td>\n",
              "      <td>5</td>\n",
              "      <td>may, 2017</td>\n",
              "      <td>151 sec</td>\n",
              "      <td>1</td>\n",
              "      <td>-1</td>\n",
              "      <td>0</td>\n",
              "      <td>unknown</td>\n",
              "      <td>no</td>\n",
              "      <td>technician</td>\n",
              "      <td>secondary</td>\n",
              "      <td>0</td>\n",
              "    </tr>\n",
              "    <tr>\n",
              "      <th>2</th>\n",
              "      <td>33.0</td>\n",
              "      <td>120000</td>\n",
              "      <td>2</td>\n",
              "      <td>married</td>\n",
              "      <td>yes</td>\n",
              "      <td>no</td>\n",
              "      <td>yes</td>\n",
              "      <td>yes</td>\n",
              "      <td>unknown</td>\n",
              "      <td>5</td>\n",
              "      <td>may, 2017</td>\n",
              "      <td>76 sec</td>\n",
              "      <td>1</td>\n",
              "      <td>-1</td>\n",
              "      <td>0</td>\n",
              "      <td>unknown</td>\n",
              "      <td>no</td>\n",
              "      <td>entrepreneur</td>\n",
              "      <td>secondary</td>\n",
              "      <td>0</td>\n",
              "    </tr>\n",
              "    <tr>\n",
              "      <th>3</th>\n",
              "      <td>47.0</td>\n",
              "      <td>20000</td>\n",
              "      <td>1506</td>\n",
              "      <td>married</td>\n",
              "      <td>no</td>\n",
              "      <td>no</td>\n",
              "      <td>yes</td>\n",
              "      <td>no</td>\n",
              "      <td>unknown</td>\n",
              "      <td>5</td>\n",
              "      <td>may, 2017</td>\n",
              "      <td>92 sec</td>\n",
              "      <td>1</td>\n",
              "      <td>-1</td>\n",
              "      <td>0</td>\n",
              "      <td>unknown</td>\n",
              "      <td>no</td>\n",
              "      <td>blue-collar</td>\n",
              "      <td>unknown</td>\n",
              "      <td>0</td>\n",
              "    </tr>\n",
              "    <tr>\n",
              "      <th>4</th>\n",
              "      <td>33.0</td>\n",
              "      <td>0</td>\n",
              "      <td>1</td>\n",
              "      <td>single</td>\n",
              "      <td>no</td>\n",
              "      <td>no</td>\n",
              "      <td>no</td>\n",
              "      <td>no</td>\n",
              "      <td>unknown</td>\n",
              "      <td>5</td>\n",
              "      <td>may, 2017</td>\n",
              "      <td>198 sec</td>\n",
              "      <td>1</td>\n",
              "      <td>-1</td>\n",
              "      <td>0</td>\n",
              "      <td>unknown</td>\n",
              "      <td>no</td>\n",
              "      <td>unknown</td>\n",
              "      <td>unknown</td>\n",
              "      <td>0</td>\n",
              "    </tr>\n",
              "  </tbody>\n",
              "</table>\n",
              "</div>"
            ],
            "text/plain": [
              "    age  salary  balance  ...           job  education response_rate\n",
              "0  58.0  100000     2143  ...    management   tertiary             0\n",
              "1  44.0   60000       29  ...    technician  secondary             0\n",
              "2  33.0  120000        2  ...  entrepreneur  secondary             0\n",
              "3  47.0   20000     1506  ...   blue-collar    unknown             0\n",
              "4  33.0       0        1  ...       unknown    unknown             0\n",
              "\n",
              "[5 rows x 20 columns]"
            ]
          },
          "metadata": {
            "tags": []
          },
          "execution_count": 144
        }
      ]
    },
    {
      "cell_type": "code",
      "metadata": {
        "colab": {
          "base_uri": "https://localhost:8080/"
        },
        "id": "ltBAzgmx23iM",
        "outputId": "a8ccb83b-a95f-476e-e4db-849cd9ccc1ca"
      },
      "source": [
        "#plot the bar graph of marital status with average value of response_rate\n",
        "data.groupby('marital')['response_rate'].mean()"
      ],
      "execution_count": null,
      "outputs": [
        {
          "output_type": "execute_result",
          "data": {
            "text/plain": [
              "marital\n",
              "divorced    0.119469\n",
              "married     0.101269\n",
              "single      0.149554\n",
              "Name: response_rate, dtype: float64"
            ]
          },
          "metadata": {
            "tags": []
          },
          "execution_count": 158
        }
      ]
    },
    {
      "cell_type": "markdown",
      "metadata": {
        "id": "UrCTE4sU6AWJ"
      },
      "source": [
        "### Multivariate Analysis"
      ]
    },
    {
      "cell_type": "markdown",
      "metadata": {
        "id": "jFESY0N46XbZ"
      },
      "source": [
        "![image.png](data:image/png;base64,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)"
      ]
    },
    {
      "cell_type": "code",
      "metadata": {
        "colab": {
          "base_uri": "https://localhost:8080/"
        },
        "id": "3dmIQEPV6Com",
        "outputId": "14faa050-65a0-4a9e-d6aa-da18350b0f77"
      },
      "source": [
        "result = pd.pivot_table(data=data, index='education', columns='marital',values='response_rate')\n",
        "print(result)"
      ],
      "execution_count": null,
      "outputs": [
        {
          "output_type": "stream",
          "text": [
            "marital    divorced   married    single\n",
            "education                              \n",
            "primary    0.138852  0.075601  0.106808\n",
            "secondary  0.103559  0.094650  0.129271\n",
            "tertiary   0.137415  0.129835  0.183737\n",
            "unknown    0.142012  0.122519  0.162879\n"
          ],
          "name": "stdout"
        }
      ]
    },
    {
      "cell_type": "code",
      "metadata": {
        "id": "Ku_Znpb27USD",
        "colab": {
          "base_uri": "https://localhost:8080/",
          "height": 279
        },
        "outputId": "9e52f87f-e414-4af5-f2ec-8c929694f6a7"
      },
      "source": [
        "#create heat map of education vs marital vs response_rate\n",
        "sns.heatmap(result, annot=True, cmap = 'RdYlGn', center=0.117)\n",
        "plt.show()"
      ],
      "execution_count": null,
      "outputs": [
        {
          "output_type": "display_data",
          "data": {
            "image/png": "[encoded data removed]",
            "text/plain": [
              "<Figure size 432x288 with 2 Axes>"
            ]
          },
          "metadata": {
            "tags": [],
            "needs_background": "light"
          }
        }
      ]
    }
  ]
}
